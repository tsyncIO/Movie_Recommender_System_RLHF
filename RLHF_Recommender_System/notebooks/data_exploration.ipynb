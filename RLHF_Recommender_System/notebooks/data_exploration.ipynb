# Import necessary libraries
import pandas as pd
import matplotlib.pyplot as plt

# Load the MovieLens dataset
data_path = "../data/raw/ratings.csv"
df = pd.read_csv(data_path)

# Display the first few rows
print("Dataset sample:")
print(df.head())

# Basic statistics about the data
print("Dataset Info:")
print(df.describe())

# Distribution of ratings
plt.figure(figsize=(8, 5))
df['rating'].hist(bins=20)
plt.title("Rating Distribution")
plt.xlabel("Ratings")
plt.ylabel("Frequency")
plt.show()
