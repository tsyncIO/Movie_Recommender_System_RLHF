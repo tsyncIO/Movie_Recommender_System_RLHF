# Import required libraries
import pandas as pd

# Load raw data
data_path = "../data/raw/ratings.csv"
df = pd.read_csv(data_path)

# Handle missing values and filter high ratings
print("Shape before filtering:", df.shape)
df.dropna(inplace=True)
df = df[df['rating'] >= 3.0]
print("Shape after filtering:", df.shape)

# Save preprocessed data
processed_path = "../data/processed/preprocessed_data.csv"
df.to_csv(processed_path, index=False)
print(f"Preprocessed data saved to {processed_path}")
