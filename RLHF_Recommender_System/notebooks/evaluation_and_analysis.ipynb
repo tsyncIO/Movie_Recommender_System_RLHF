import numpy as np
from stable_baselines3 import PPO
from environment import RecommenderEnv
import pandas as pd

# Load the trained agent
model_path = "../models/rl_agent"
model = PPO.load(model_path)

# Load preprocessed data
data_path = "../data/processed/preprocessed_data.csv"
df = pd.read_csv(data_path)
env = RecommenderEnv(df)

# Evaluate the agent
num_episodes = 5
rewards = []

for _ in range(num_episodes):
    obs = env.reset()
    total_reward = 0
    done = False
    while not done:
        action, _ = model.predict(obs)
        obs, reward, done, _ = env.step(action)
        total_reward += reward
    rewards.append(total_reward)

print(f"Average Reward over {num_episodes} episodes: {np.mean(rewards)}")
