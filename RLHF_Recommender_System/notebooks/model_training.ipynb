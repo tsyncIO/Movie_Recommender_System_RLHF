import numpy as np
from tensorflow.keras.models import Sequential
from tensorflow.keras.layers import Dense

# Load preprocessed data
data_path = "../data/processed/preprocessed_data.csv"
df = pd.read_csv(data_path)

# Feature extraction for reward modeling
X = df[['movieId']].values
y = df['rating'].values

# Define the model
model = Sequential([
    Dense(32, activation='relu', input_shape=(1,)),
    Dense(16, activation='relu'),
    Dense(1, activation='linear')
])

# Compile the model
model.compile(optimizer='adam', loss='mse')

# Train the reward model
history = model.fit(X, y, epochs=5, batch_size=64)
model.save("../models/reward_model.h5")
print("Reward model training complete.")
