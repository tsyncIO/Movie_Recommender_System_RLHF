import numpy as np
import pandas as pd
from tensorflow.keras.models import load_model

# Load the pre-trained reward model
reward_model_path = "../models/reward_model.h5"
reward_model = load_model(reward_model_path)
print("Reward model loaded.")

# Load preprocessed data
data_path = "../data/processed/preprocessed_data.csv"
df = pd.read_csv(data_path)

# Predict sample rewards
X_sample = df[['movieId']].values[:5]
predictions = reward_model.predict(X_sample)
print("Predicted sample rewards:")
print(predictions)
