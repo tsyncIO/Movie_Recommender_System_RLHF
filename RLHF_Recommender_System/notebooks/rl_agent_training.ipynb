import gym
from stable_baselines3 import PPO
from environment import RecommenderEnv
import pandas as pd

# Load preprocessed data
data_path = "../data/processed/preprocessed_data.csv"
df = pd.read_csv(data_path)

# Initialize environment
env = RecommenderEnv(df)

# Train PPO Agent
model = PPO("MlpPolicy", env, verbose=1)
model.learn(total_timesteps=10000)

# Save the agent
model.save("../models/rl_agent")
print("RL agent training complete.")
